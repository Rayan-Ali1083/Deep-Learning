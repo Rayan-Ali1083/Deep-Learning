{
 "cells": [
  {
   "cell_type": "code",
   "execution_count": 27,
   "metadata": {},
   "outputs": [],
   "source": [
    "import tensorflow as tf\n",
    "from tensorflow.keras import datasets, layers, models\n",
    "from tensorflow.keras.models import Sequential\n",
    "from tensorflow.keras.layers import Dense, Flatten\n",
    "import matplotlib.pyplot as plt\n",
    "import numpy as np\n",
    "from tensorflow.keras.layers import Conv2D, MaxPooling2D\n"
   ]
  },
  {
   "cell_type": "code",
   "execution_count": 13,
   "metadata": {},
   "outputs": [],
   "source": [
    "(X_train, y_train), (X_test, y_test) = datasets.cifar10.load_data()"
   ]
  },
  {
   "cell_type": "code",
   "execution_count": 14,
   "metadata": {},
   "outputs": [
    {
     "name": "stdout",
     "output_type": "stream",
     "text": [
      "(50000, 32, 32, 3)\n",
      "(10000, 32, 32, 3)\n"
     ]
    }
   ],
   "source": [
    "print(X_train.shape)\n",
    "print(X_test.shape)"
   ]
  },
  {
   "cell_type": "code",
   "execution_count": 15,
   "metadata": {},
   "outputs": [],
   "source": [
    "y_train = y_train.reshape(-1, )\n",
    "classes = [\"airplane\",\"automobile\",\"bird\",\"cat\",\"deer\",\"dog\",\"frog\",\"horse\",\"ship\",\"truck\"]"
   ]
  },
  {
   "cell_type": "code",
   "execution_count": 16,
   "metadata": {},
   "outputs": [],
   "source": [
    "def plot_sample(X, y, index):\n",
    "    plt.figure(figsize=(3,3))\n",
    "    plt.imshow(X[index])\n",
    "    plt.xlabel(classes[y[index]])"
   ]
  },
  {
   "cell_type": "code",
   "execution_count": 17,
   "metadata": {},
   "outputs": [
    {
     "data": {
      "image/png": "[encoded data removed]",
      "text/plain": [
       "<Figure size 300x300 with 1 Axes>"
      ]
     },
     "metadata": {},
     "output_type": "display_data"
    }
   ],
   "source": [
    "plot_sample(X_train, y_train, 0)"
   ]
  },
  {
   "cell_type": "markdown",
   "metadata": {},
   "source": [
    "#### Normalization"
   ]
  },
  {
   "cell_type": "code",
   "execution_count": 18,
   "metadata": {},
   "outputs": [],
   "source": [
    "X_train = X_train / 255\n",
    "X_test = X_test / 255"
   ]
  },
  {
   "cell_type": "code",
   "execution_count": 19,
   "metadata": {},
   "outputs": [
    {
     "data": {
      "text/plain": [
       "(32, 32, 3)"
      ]
     },
     "execution_count": 19,
     "metadata": {},
     "output_type": "execute_result"
    }
   ],
   "source": [
    "X_train[0].shape"
   ]
  },
  {
   "cell_type": "markdown",
   "metadata": {},
   "source": [
    "#### ANN"
   ]
  },
  {
   "cell_type": "code",
   "execution_count": 21,
   "metadata": {},
   "outputs": [
    {
     "name": "stdout",
     "output_type": "stream",
     "text": [
      "Epoch 1/5\n",
      "1563/1563 [==============================] - 84s 53ms/step - loss: 1.8118 - accuracy: 0.3530\n",
      "Epoch 2/5\n",
      "1563/1563 [==============================] - 87s 56ms/step - loss: 1.6251 - accuracy: 0.4263\n",
      "Epoch 3/5\n",
      "1563/1563 [==============================] - 90s 58ms/step - loss: 1.5423 - accuracy: 0.4574\n",
      "Epoch 4/5\n",
      "1563/1563 [==============================] - 91s 58ms/step - loss: 1.4827 - accuracy: 0.4790\n",
      "Epoch 5/5\n",
      "1563/1563 [==============================] - 89s 57ms/step - loss: 1.4306 - accuracy: 0.4994\n"
     ]
    },
    {
     "data": {
      "text/plain": [
       "<keras.src.callbacks.History at 0x22b7c4410d0>"
      ]
     },
     "execution_count": 21,
     "metadata": {},
     "output_type": "execute_result"
    }
   ],
   "source": [
    "model = Sequential()\n",
    "\n",
    "model.add(Flatten(input_shape=(32, 32, 3)))\n",
    "model.add(Dense(3000, activation='relu'))\n",
    "model.add(Dense(1000, activation='relu'))\n",
    "model.add(Dense(10, activation='sigmoid'))\n",
    "\n",
    "model.compile(optimizer='SGD', loss='sparse_categorical_crossentropy', metrics=['accuracy'])\n",
    "model.fit(X_train, y_train, epochs=5)"
   ]
  },
  {
   "cell_type": "code",
   "execution_count": 22,
   "metadata": {},
   "outputs": [
    {
     "name": "stdout",
     "output_type": "stream",
     "text": [
      "313/313 [==============================] - 5s 16ms/step - loss: 1.4671 - accuracy: 0.4717\n"
     ]
    },
    {
     "data": {
      "text/plain": [
       "[1.4670648574829102, 0.4717000126838684]"
      ]
     },
     "execution_count": 22,
     "metadata": {},
     "output_type": "execute_result"
    }
   ],
   "source": [
    "model.evaluate(X_test, y_test)"
   ]
  },
  {
   "cell_type": "markdown",
   "metadata": {},
   "source": [
    "#### CNN"
   ]
  },
  {
   "cell_type": "code",
   "execution_count": 28,
   "metadata": {},
   "outputs": [],
   "source": [
    "model = Sequential()\n",
    "#cnn\n",
    "\n",
    "model.add(Conv2D(filters=32, kernel_size = (3,3), activation='relu', input_shape = (32, 32, 3)))             # Conv\n",
    "model.add(MaxPooling2D((2, 2)))                                                                              # Pooling\n",
    "\n",
    "model.add(Conv2D(filters=64, kernel_size = (3,3), activation='relu'))                                        # Conv\n",
    "model.add(MaxPooling2D((2, 2)))                                                                              # Pooling\n",
    "\n",
    "#dense layers\n",
    "\n",
    "model.add(Flatten())\n",
    "model.add(Dense(64, activation='relu'))\n",
    "model.add(Dense(10, activation='softmax'))"
   ]
  },
  {
   "cell_type": "code",
   "execution_count": 30,
   "metadata": {},
   "outputs": [],
   "source": [
    "model.compile(optimizer='adam', loss='sparse_categorical_crossentropy', metrics=['accuracy'])"
   ]
  },
  {
   "cell_type": "code",
   "execution_count": 32,
   "metadata": {},
   "outputs": [
    {
     "name": "stdout",
     "output_type": "stream",
     "text": [
      "Epoch 1/10\n",
      "1563/1563 [==============================] - 37s 24ms/step - loss: 1.0192 - accuracy: 0.6434 - val_loss: 1.0342 - val_accuracy: 0.6434\n",
      "Epoch 2/10\n",
      "1563/1563 [==============================] - 39s 25ms/step - loss: 0.9227 - accuracy: 0.6802 - val_loss: 0.9729 - val_accuracy: 0.6601\n",
      "Epoch 3/10\n",
      "1563/1563 [==============================] - 39s 25ms/step - loss: 0.8557 - accuracy: 0.7020 - val_loss: 0.9225 - val_accuracy: 0.6813\n",
      "Epoch 4/10\n",
      "1563/1563 [==============================] - 46s 29ms/step - loss: 0.7960 - accuracy: 0.7241 - val_loss: 0.9329 - val_accuracy: 0.6808\n",
      "Epoch 5/10\n",
      "1563/1563 [==============================] - 46s 29ms/step - loss: 0.7465 - accuracy: 0.7379 - val_loss: 0.9099 - val_accuracy: 0.6887\n",
      "Epoch 6/10\n",
      "1563/1563 [==============================] - 38s 25ms/step - loss: 0.6988 - accuracy: 0.7548 - val_loss: 0.9080 - val_accuracy: 0.6924\n",
      "Epoch 7/10\n",
      "1563/1563 [==============================] - 38s 25ms/step - loss: 0.6612 - accuracy: 0.7665 - val_loss: 0.9184 - val_accuracy: 0.6969\n",
      "Epoch 8/10\n",
      "1563/1563 [==============================] - 40s 26ms/step - loss: 0.6194 - accuracy: 0.7842 - val_loss: 0.9150 - val_accuracy: 0.7054\n",
      "Epoch 9/10\n",
      "1563/1563 [==============================] - 39s 25ms/step - loss: 0.5883 - accuracy: 0.7930 - val_loss: 0.9383 - val_accuracy: 0.6936\n",
      "Epoch 10/10\n",
      "1563/1563 [==============================] - 39s 25ms/step - loss: 0.5527 - accuracy: 0.8057 - val_loss: 0.9268 - val_accuracy: 0.7015\n"
     ]
    }
   ],
   "source": [
    "history = model.fit(X_train, y_train, validation_data=(X_test, y_test), epochs=10)"
   ]
  },
  {
   "cell_type": "code",
   "execution_count": 33,
   "metadata": {},
   "outputs": [
    {
     "name": "stdout",
     "output_type": "stream",
     "text": [
      "313/313 [==============================] - 2s 8ms/step - loss: 0.9268 - accuracy: 0.7015\n"
     ]
    },
    {
     "data": {
      "text/plain": [
       "[0.9268200397491455, 0.7014999985694885]"
      ]
     },
     "execution_count": 33,
     "metadata": {},
     "output_type": "execute_result"
    }
   ],
   "source": [
    "model.evaluate(X_test, y_test)"
   ]
  }
 ],
 "metadata": {
  "kernelspec": {
   "display_name": "Python 3",
   "language": "python",
   "name": "python3"
  },
  "language_info": {
   "codemirror_mode": {
    "name": "ipython",
    "version": 3
   },
   "file_extension": ".py",
   "mimetype": "text/x-python",
   "name": "python",
   "nbconvert_exporter": "python",
   "pygments_lexer": "ipython3",
   "version": "3.11.2"
  },
  "orig_nbformat": 4
 },
 "nbformat": 4,
 "nbformat_minor": 2
}
