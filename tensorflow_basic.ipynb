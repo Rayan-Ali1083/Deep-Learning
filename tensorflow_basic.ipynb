{
 "cells": [
  {
   "cell_type": "code",
   "execution_count": 1,
   "metadata": {},
   "outputs": [],
   "source": [
    "import tensorflow as tf"
   ]
  },
  {
   "cell_type": "code",
   "execution_count": 38,
   "metadata": {},
   "outputs": [
    {
     "name": "stdout",
     "output_type": "stream",
     "text": [
      "tf.Tensor([0 1 2 3 4 5 6 7], shape=(8,), dtype=int32)\n",
      "tf.Tensor([1 2 3 4 5 6 7], shape=(7,), dtype=int32)\n",
      "tf.Tensor([0 2 4 6], shape=(4,), dtype=int32)\n",
      "tf.Tensor([7 6 5 4 3 2 1 0], shape=(8,), dtype=int32)\n",
      "tf.Tensor([1 2], shape=(2,), dtype=int32)\n",
      "tf.Tensor([0 1 2 3 4 5 6 7 8], shape=(9,), dtype=int32)\n",
      "tf.Tensor(\n",
      "[[0 1 2]\n",
      " [3 4 5]\n",
      " [6 7 8]], shape=(3, 3), dtype=int32)\n",
      "tf.Tensor(\n",
      "[[0 3 6]\n",
      " [1 4 7]\n",
      " [2 5 8]], shape=(3, 3), dtype=int32)\n"
     ]
    }
   ],
   "source": [
    "x = tf.constant(4)\n",
    "\n",
    "x = tf.constant(4, shape=(1,1), dtype=tf.float32)\n",
    "\n",
    "x = tf.constant([[1,2,3], [4,5,6]])\n",
    "\n",
    "x = tf.ones((3,3))\n",
    "x = tf.zeros((2,3))\n",
    "x = tf.eye(3)\n",
    "\n",
    "x = tf.random.normal((3,3), mean=0, stddev=1)\n",
    "x = tf.random.uniform((1, 3), minval = 0, maxval = 1)\n",
    "\n",
    "x = tf.range(start=1, limit=10, delta=2)\n",
    "x = tf.cast(x, dtype=tf.float64)\n",
    "\n",
    "x = tf.constant([1,2,3])\n",
    "y = tf.constant([9,8,7])\n",
    "\n",
    "z = tf.add(x, y)\n",
    "z = x + y\n",
    "\n",
    "z = tf.subtract(x, y)\n",
    "z = x - y\n",
    "\n",
    "z = tf.divide(x, y)\n",
    "z = x / y\n",
    "\n",
    "z = tf.multiply(x, y)\n",
    "z = x * y\n",
    "\n",
    "z = tf.tensordot(x, y, axes=1)\n",
    "z = tf.reduce_sum(x*y, axis=0)\n",
    "\n",
    "z = x ** 5\n",
    "\n",
    "x = tf.random.normal((2,3))\n",
    "y = tf.random.normal((3,4))\n",
    "z = tf.matmul(x, y)\n",
    "z = x @ y\n",
    "\n",
    "x = tf.constant([0, 1, 2, 3, 4, 5, 6, 7])\n",
    "print(x[:])\n",
    "print(x[1:])\n",
    "print(x[::2])\n",
    "print(x[::-1])\n",
    "\n",
    "indices = tf.constant([0, 3])\n",
    "x_ind = tf.gather(x, indices)\n",
    "\n",
    "x = tf.constant([[1,2],[3,4],[5,6]])\n",
    "\n",
    "print(x[0,:])\n",
    "\n",
    "\n",
    "x = tf.range(9)\n",
    "print(x)\n",
    "\n",
    "x = tf.reshape(x, (3,3))\n",
    "print(x)\n",
    "\n",
    "x = tf.transpose(x, perm=[1,0])\n",
    "print(x)\n"
   ]
  }
 ],
 "metadata": {
  "kernelspec": {
   "display_name": "Python 3",
   "language": "python",
   "name": "python3"
  },
  "language_info": {
   "codemirror_mode": {
    "name": "ipython",
    "version": 3
   },
   "file_extension": ".py",
   "mimetype": "text/x-python",
   "name": "python",
   "nbconvert_exporter": "python",
   "pygments_lexer": "ipython3",
   "version": "3.11.2"
  },
  "orig_nbformat": 4
 },
 "nbformat": 4,
 "nbformat_minor": 2
}
