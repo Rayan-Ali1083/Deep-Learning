{
 "cells": [
  {
   "cell_type": "code",
   "execution_count": null,
   "metadata": {},
   "outputs": [],
   "source": [
    "from ultralytics import YOLO\n",
    "import cv2\n",
    "import cvzone\n",
    "import math"
   ]
  },
  {
   "cell_type": "code",
   "execution_count": null,
   "metadata": {},
   "outputs": [],
   "source": [
    "# For webcam\n",
    "\n",
    "cap = cv2.VideoCapture(0)\n",
    "\n",
    "cap.set(3, 1024)\n",
    "cap.set(4, 512)\n",
    "\n",
    "model = YOLO(r\"best.pt\")\n",
    "\n",
    "class_name = ['Diseased', 'Healthy']\n",
    "\n",
    "while True:\n",
    "    success, img = cap.read()\n",
    "    img = cv2.resize(img, (640, 640))\n",
    "    results = model(img, stream=True)\n",
    "    \n",
    "    for r in results:\n",
    "        boxes = r.boxes\n",
    "        for box in boxes:\n",
    "            # Bounding box\n",
    "            x1, y1, x2, y2 = box.xyxy[0]\n",
    "            x1, y1, x2, y2 = int(x1), int(y1), int(x2), int(y2)\n",
    "            w, h = x2 - x1, y2 - y1\n",
    "\n",
    "            cvzone.cornerRect(img, (x1, y1, w, h))\n",
    "\n",
    "            # Confidence\n",
    "            conf = math.ceil((box.conf[0] * 100)) / 100\n",
    "\n",
    "            # Class name\n",
    "            cls = int(box.cls[0])\n",
    "\n",
    "            if class_name[cls] == 'Diseased':\n",
    "                color = (0, 0, 255)\n",
    "            else:\n",
    "                color = (0, 255, 0)\n",
    "\n",
    "            \n",
    "\n",
    "            cvzone.putTextRect(img, f'{class_name[cls]} {conf}', (max(0, x1), max(35, y1)), colorR=color)\n",
    "\n",
    "\n",
    "    \n",
    "    cv2.imshow(\"Image\", img)\n",
    "    if cv2.waitKey(1) & 0xFF == ord('q'):\n",
    "        break\n",
    "\n",
    "cap.release()\n",
    "cv2.destroyAllWindows()"
   ]
  },
  {
   "cell_type": "code",
   "execution_count": 2,
   "metadata": {},
   "outputs": [
    {
     "name": "stderr",
     "output_type": "stream",
     "text": [
      "\n",
      "0: 576x800 1 Diseased, 331.8ms\n",
      "Speed: 9.2ms preprocess, 331.8ms inference, 23.0ms postprocess per image at shape (1, 3, 576, 800)\n"
     ]
    }
   ],
   "source": [
    "# For images and videos\n",
    "model = YOLO(r\"best.pt\")\n",
    "\n",
    "class_name = ['Diseased', 'Healthy']\n",
    "\n",
    "img = cv2.imread('leaf-diseased.jpg')\n",
    "img = cv2.resize(img, (720, 512))\n",
    "results = model(img)\n",
    "\n",
    "for r in results:\n",
    "    boxes = r.boxes\n",
    "    for box in boxes:\n",
    "        # Bounding box\n",
    "        x1, y1, x2, y2 = box.xyxy[0]\n",
    "        x1, y1, x2, y2 = int(x1), int(y1), int(x2), int(y2)\n",
    "        w, h = x2 - x1, y2 - y1\n",
    "\n",
    "        cvzone.cornerRect(img, (x1, y1, w, h), rt=2)\n",
    "\n",
    "        # Confidence\n",
    "        conf = math.ceil((box.conf[0] * 100)) / 100\n",
    "\n",
    "        # Class name\n",
    "        cls = int(box.cls[0])\n",
    "        \n",
    "        if class_name[cls] == 'Diseased':\n",
    "            color = (0, 0, 255)\n",
    "        else:\n",
    "            color = (0, 255, 0)\n",
    "\n",
    "        cvzone.putTextRect(img, f'{class_name[cls]} {conf}', (max(0, x1), max(35, y1)), colorR=color, thickness=3 )\n",
    "\n",
    "\n",
    "\n",
    "cv2.imshow(\"Image\", img)\n",
    "cv2.waitKey(0)\n",
    "cv2.destroyAllWindows()"
   ]
  }
 ],
 "metadata": {
  "kernelspec": {
   "display_name": "Python 3",
   "language": "python",
   "name": "python3"
  },
  "language_info": {
   "codemirror_mode": {
    "name": "ipython",
    "version": 3
   },
   "file_extension": ".py",
   "mimetype": "text/x-python",
   "name": "python",
   "nbconvert_exporter": "python",
   "pygments_lexer": "ipython3",
   "version": "3.11.2"
  },
  "orig_nbformat": 4
 },
 "nbformat": 4,
 "nbformat_minor": 2
}
