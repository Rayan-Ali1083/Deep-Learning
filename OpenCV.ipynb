{
 "cells": [
  {
   "cell_type": "code",
   "execution_count": 1,
   "metadata": {},
   "outputs": [],
   "source": [
    "import cv2"
   ]
  },
  {
   "cell_type": "code",
   "execution_count": 13,
   "metadata": {},
   "outputs": [],
   "source": [
    "# read image\n",
    "\n",
    "img = cv2.imread(\"person.jpg\") \n",
    "\n",
    "cv2.imshow(\"Output\", img)\n",
    "cv2.waitKey(0)\n",
    "\n",
    "cv2.destroyAllWindows()"
   ]
  },
  {
   "cell_type": "code",
   "execution_count": 7,
   "metadata": {},
   "outputs": [],
   "source": [
    "# read video\n",
    "vid = cv2.VideoCapture(r\"cats_vid.mp4\")\n",
    "\n",
    "fps = int(vid.get(cv2.CAP_PROP_FPS))\n",
    "delay = int(1000 / fps)\n",
    "\n",
    "while True:\n",
    "    success, img = vid.read()\n",
    "    if not success:\n",
    "        break\n",
    "\n",
    "    cv2.imshow(\"video\", img)\n",
    "    \n",
    "    if cv2.waitKey(delay) & 0xFF == ord('q'):\n",
    "        break\n",
    "\n",
    "\n",
    "vid.release()\n",
    "cv2.destroyAllWindows()\n"
   ]
  },
  {
   "cell_type": "code",
   "execution_count": 6,
   "metadata": {},
   "outputs": [],
   "source": [
    "#read web cam\n",
    "\n",
    "webcam = cv2.VideoCapture(0)\n",
    "\n",
    "webcam.set(cv2.CAP_PROP_FRAME_HEIGHT, 640)\n",
    "webcam.set(cv2.CAP_PROP_FRAME_WIDTH, 480)\n",
    "\n",
    "\n",
    "while True:\n",
    "    success, img = webcam.read()\n",
    "\n",
    "    if not success:\n",
    "        break\n",
    "\n",
    "    cv2.imshow(\"WebCam\", img)\n",
    "\n",
    "    if cv2.waitKey(1) & 0xFF == ord ('q'):\n",
    "        break\n",
    "\n",
    "webcam.release()\n",
    "cv2.destroyAllWindows()"
   ]
  },
  {
   "cell_type": "markdown",
   "metadata": {},
   "source": [
    "### Effects"
   ]
  },
  {
   "cell_type": "code",
   "execution_count": 12,
   "metadata": {},
   "outputs": [],
   "source": [
    "# Grey\n",
    "img = cv2.imread('person.jpg')\n",
    "\n",
    "img_grey = cv2.cvtColor(img, cv2.COLOR_BGR2GRAY)\n",
    "\n",
    "cv2.imshow(\"Colored img\", img)\n",
    "cv2.imshow(\"Grey img\", img_grey)\n",
    "cv2.waitKey(0)\n",
    "cv2.destroyAllWindows()"
   ]
  },
  {
   "cell_type": "code",
   "execution_count": 15,
   "metadata": {},
   "outputs": [],
   "source": [
    "# blur\n",
    "img = cv2.imread('person.jpg')\n",
    "\n",
    "img_blur = cv2.GaussianBlur(img, ksize=(7,7), sigmaX=0, sigmaY=0)\n",
    "\n",
    "cv2.imshow(\"Ublurred\", img)\n",
    "cv2.imshow(\"Blurred\", img_blur)\n",
    "\n",
    "cv2.waitKey(0)\n",
    "cv2.destroyAllWindows()"
   ]
  },
  {
   "cell_type": "code",
   "execution_count": 16,
   "metadata": {},
   "outputs": [],
   "source": [
    "# canny\n",
    "import numpy as np\n",
    "\n",
    "img = cv2.imread('cat.jfif')\n",
    "\n",
    "img_canny = cv2.Canny(img, 400, 400)\n",
    "\n",
    "kernel = np.ones((2,2), np.uint8)\n",
    "\n",
    "d_img = cv2.dilate(img_canny, kernel=kernel, iterations=1)\n",
    "e_img = cv2.erode(d_img, kernel=kernel, iterations=1)\n",
    "\n",
    "cv2.imshow(\"Orignal\", img)\n",
    "cv2.imshow(\"Canny img\", img_canny)\n",
    "cv2.imshow(\"Dialated img\", d_img)\n",
    "cv2.imshow(\"Eroded img\", e_img)\n",
    "\n",
    "\n",
    "cv2.waitKey(0)\n",
    "cv2.destroyAllWindows()"
   ]
  },
  {
   "cell_type": "code",
   "execution_count": 6,
   "metadata": {},
   "outputs": [],
   "source": [
    "# Resize\n",
    "\n",
    "img = cv2.imread(\"person.jpg\")\n",
    "\n",
    "resized_img = cv2.resize(img, (1000, 512))\n",
    "cropped_img = img[50:200, 150:350]\n",
    "\n",
    "cv2.imshow(\"Openheimer\", img)\n",
    "cv2.imshow(\"Resized\", resized_img)\n",
    "cv2.imshow(\"Cropped\", cropped_img)\n",
    "\n",
    "cv2.waitKey(0)\n",
    "cv2.destroyAllWindows()"
   ]
  },
  {
   "cell_type": "code",
   "execution_count": null,
   "metadata": {},
   "outputs": [],
   "source": []
  }
 ],
 "metadata": {
  "kernelspec": {
   "display_name": "Python 3",
   "language": "python",
   "name": "python3"
  },
  "language_info": {
   "codemirror_mode": {
    "name": "ipython",
    "version": 3
   },
   "file_extension": ".py",
   "mimetype": "text/x-python",
   "name": "python",
   "nbconvert_exporter": "python",
   "pygments_lexer": "ipython3",
   "version": "3.11.2"
  },
  "orig_nbformat": 4
 },
 "nbformat": 4,
 "nbformat_minor": 2
}
